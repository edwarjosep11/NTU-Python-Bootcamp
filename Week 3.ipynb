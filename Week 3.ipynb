{
 "cells": [
  {
   "attachments": {},
   "cell_type": "markdown",
   "metadata": {},
   "source": [
    "# Week 3 Activities"
   ]
  },
  {
   "attachments": {},
   "cell_type": "markdown",
   "metadata": {},
   "source": [
    "1. Write a python function called \"greet\" that prints the word \"Good day\n",
    "Mr. Deen\""
   ]
  },
  {
   "cell_type": "code",
   "execution_count": 4,
   "metadata": {},
   "outputs": [
    {
     "name": "stdout",
     "output_type": "stream",
     "text": [
      "Good Day Mr. Deen !\n"
     ]
    }
   ],
   "source": [
    "def greet(name='Deen'):\n",
    "    print(\"Good Day Mr.\", name, \"!\")   \n",
    "    \n",
    "greet()"
   ]
  },
  {
   "attachments": {},
   "cell_type": "markdown",
   "metadata": {},
   "source": [
    "2. Modify the function to receive the name of the individual as an\n",
    "argument and prints \"Good day {name}\"\n"
   ]
  },
  {
   "cell_type": "code",
   "execution_count": 8,
   "metadata": {},
   "outputs": [
    {
     "name": "stdout",
     "output_type": "stream",
     "text": [
      "Good Day Mr. Edwar !\n"
     ]
    }
   ],
   "source": [
    "def greet(name):\n",
    "    print(\"Good Day Mr.\", name, \"!\")   \n",
    "    \n",
    "greet('Edwar')"
   ]
  },
  {
   "attachments": {},
   "cell_type": "markdown",
   "metadata": {},
   "source": [
    "3. Write a function that takes 3 arguments and print and return the\n",
    "maximum of the 3\n"
   ]
  },
  {
   "cell_type": "code",
   "execution_count": 12,
   "metadata": {},
   "outputs": [
    {
     "name": "stdout",
     "output_type": "stream",
     "text": [
      "The highest number is:  10\n"
     ]
    }
   ],
   "source": [
    "def max_number(num1, num2, num3):\n",
    "    res = max(num1, num2, num3)\n",
    "    print('The highest number is: ', res)\n",
    "\n",
    "max_number(5,8,10)"
   ]
  },
  {
   "attachments": {},
   "cell_type": "markdown",
   "metadata": {},
   "source": [
    "4. Modify the function in (3) to print and return the sum of the 3\n",
    "arguments\n"
   ]
  },
  {
   "cell_type": "code",
   "execution_count": 16,
   "metadata": {},
   "outputs": [
    {
     "name": "stdout",
     "output_type": "stream",
     "text": [
      "The sum of the numbers is: 23\n"
     ]
    }
   ],
   "source": [
    "def sum_numbers(num1, num2, num3):\n",
    "    res = num1+num2+num3\n",
    "    print('The sum of the numbers is:', res)\n",
    "sum_numbers(5,8,10)"
   ]
  },
  {
   "attachments": {},
   "cell_type": "markdown",
   "metadata": {},
   "source": [
    "5. Modify the function in (3) to take any number of arguments and print,\n",
    "return the maximum\n"
   ]
  },
  {
   "cell_type": "code",
   "execution_count": 34,
   "metadata": {},
   "outputs": [
    {
     "name": "stdout",
     "output_type": "stream",
     "text": [
      "One random number is:  75 \n",
      "The highest values is:  80\n"
     ]
    }
   ],
   "source": [
    "import random\n",
    "\n",
    "def rand_max(num1, num2, num3):\n",
    "    max_num = max(num1, num2, num3)\n",
    "    rand_1 = random.choice([num1, num2, num3])\n",
    "    print('One random number is: ', rand_1, '\\nThe highest values is: ', max_num)\n",
    "\n",
    "rand_max(65,75,80)"
   ]
  },
  {
   "attachments": {},
   "cell_type": "markdown",
   "metadata": {},
   "source": [
    "6. Modify the function in (4) to take any number of arguments and print,\n",
    "return the sum of the arguments\n"
   ]
  },
  {
   "cell_type": "code",
   "execution_count": 36,
   "metadata": {},
   "outputs": [
    {
     "name": "stdout",
     "output_type": "stream",
     "text": [
      "One random number is:  65 \n",
      "The sum of values is:  220\n"
     ]
    }
   ],
   "source": [
    "def rand_max(num1, num2, num3):\n",
    "    sum_nums = num1+num2+num3\n",
    "    rand_1 = random.choice([num1, num2, num3])\n",
    "    print('One random number is: ', rand_1, '\\nThe sum of values is: ', sum_nums)\n",
    "\n",
    "rand_max(65,75,80)"
   ]
  },
  {
   "attachments": {},
   "cell_type": "markdown",
   "metadata": {},
   "source": [
    "7. Write a function to take one argument with a default value. Call the\n",
    "function with and without the value to test it.\n"
   ]
  },
  {
   "cell_type": "code",
   "execution_count": 38,
   "metadata": {},
   "outputs": [
    {
     "name": "stdout",
     "output_type": "stream",
     "text": [
      "4\n",
      "2023\n"
     ]
    }
   ],
   "source": [
    "def my_function(value=4):\n",
    "    return value\n",
    "\n",
    "print(my_function())\n",
    "print(my_function(2023))\n",
    "    "
   ]
  },
  {
   "attachments": {},
   "cell_type": "markdown",
   "metadata": {},
   "source": [
    "8. Try writing a function that returns more than one value\n"
   ]
  },
  {
   "cell_type": "code",
   "execution_count": 3,
   "metadata": {},
   "outputs": [
    {
     "name": "stdout",
     "output_type": "stream",
     "text": [
      "The minimum value is: 9145\n",
      "The maximum value is: 98549\n"
     ]
    }
   ],
   "source": [
    "def min_max(num1, num2, num3):\n",
    "    min_num = min(num1, num2, num3)\n",
    "    max_num = max(num1, num2, num3)\n",
    "    return (min_num, max_num)\n",
    "\n",
    "min_val, max_val = min_max(24651,9145,98549)\n",
    "print('The minimum value is:', min_val)\n",
    "print('The maximum value is:', max_val)"
   ]
  },
  {
   "attachments": {},
   "cell_type": "markdown",
   "metadata": {},
   "source": [
    "9. Write a function that takes 3 arguments \"main (a, b=2, c)\" with \"b\"\n",
    "having a default value. Try calling the function using named argument\n"
   ]
  },
  {
   "cell_type": "code",
   "execution_count": 9,
   "metadata": {},
   "outputs": [
    {
     "name": "stdout",
     "output_type": "stream",
     "text": [
      "The volume of the prism is:  360\n"
     ]
    }
   ],
   "source": [
    "\"\"\"Function that returns the volume of a prism\"\"\"\n",
    "def volume_prism(a, c, b=7):\n",
    "    volume = a * b * c\n",
    "    print('The volume of the prism is: ', volume)\n",
    "    \n",
    "volume_prism(8,9,5)\n"
   ]
  },
  {
   "attachments": {},
   "cell_type": "markdown",
   "metadata": {},
   "source": [
    "10. Write a function that sum up all positive numbers from 1 to 10\n"
   ]
  },
  {
   "cell_type": "code",
   "execution_count": 27,
   "metadata": {},
   "outputs": [
    {
     "name": "stdout",
     "output_type": "stream",
     "text": [
      "The sum of the numbers in the list is: 55\n"
     ]
    }
   ],
   "source": [
    "\"\"\"Function that return the sum of 10 first integers\"\"\"\n",
    "\n",
    "def sum_of_numbers():\n",
    "    res = sum(x for x in range(11))\n",
    "    print('The sum of the numbers in the list is:', res)\n",
    "    \n",
    "sum_of_numbers()"
   ]
  },
  {
   "attachments": {},
   "cell_type": "markdown",
   "metadata": {},
   "source": [
    "11. Make the function in (10) recursive"
   ]
  },
  {
   "cell_type": "code",
   "execution_count": 28,
   "metadata": {},
   "outputs": [
    {
     "name": "stdout",
     "output_type": "stream",
     "text": [
      "The sum of the numbers in the list is: 55\n"
     ]
    }
   ],
   "source": [
    "def sum_of_numbers(n):\n",
    "    if n == 0:\n",
    "        return 0\n",
    "    else:\n",
    "        return n + sum_of_numbers(n-1)\n",
    "    \n",
    "print('The sum of the numbers in the list is:', sum_of_numbers(10))"
   ]
  },
  {
   "cell_type": "code",
   "execution_count": null,
   "metadata": {},
   "outputs": [],
   "source": []
  }
 ],
 "metadata": {
  "kernelspec": {
   "display_name": "Python 3",
   "language": "python",
   "name": "python3"
  },
  "language_info": {
   "codemirror_mode": {
    "name": "ipython",
    "version": 3
   },
   "file_extension": ".py",
   "mimetype": "text/x-python",
   "name": "python",
   "nbconvert_exporter": "python",
   "pygments_lexer": "ipython3",
   "version": "3.10.4"
  },
  "orig_nbformat": 4,
  "vscode": {
   "interpreter": {
    "hash": "26de051ba29f2982a8de78e945f0abaf191376122a1563185a90213a26c5da77"
   }
  }
 },
 "nbformat": 4,
 "nbformat_minor": 2
}
